{
 "cells": [
  {
   "cell_type": "markdown",
   "metadata": {},
   "source": [
    "# COVID-19 Data Analysis\n",
    "**Joe Corliss**"
   ]
  },
  {
   "cell_type": "markdown",
   "metadata": {},
   "source": [
    "[Data source](https://github.com/CSSEGISandData/COVID-19/tree/master/csse_covid_19_data/csse_covid_19_time_series)"
   ]
  },
  {
   "cell_type": "markdown",
   "metadata": {},
   "source": [
    "## Execution Options"
   ]
  },
  {
   "cell_type": "code",
   "execution_count": null,
   "metadata": {},
   "outputs": [],
   "source": [
    "# Config\n",
    "DATA_PATH = '../data/'\n",
    "random_state = 0\n",
    "\n",
    "# Modeling\n",
    "metric = 'confirmed'  # Variable of interest\n",
    "metric_min = {'confirmed': round(2**9), 'deaths': round(2**3)}  # Filter out samples where the metric is below this value\n",
    "log_metric = True  # Take log of the metric?\n",
    "days_history = 7  # Number of consecutive past days to use for prediction (including the current day)\n",
    "days_horizon = 7  # Number of days ahead to predict"
   ]
  },
  {
   "cell_type": "code",
   "execution_count": null,
   "metadata": {},
   "outputs": [],
   "source": [
    "# Validate input\n",
    "assert isinstance(DATA_PATH, str), \"Bad input for option 'DATA_PATH'\"\n",
    "assert isinstance(random_state, int), \"Bad input for option 'random_state'\"\n",
    "assert metric in {'confirmed', 'deaths'}, \"Bad input for option 'metric'\"\n",
    "assert isinstance(metric_min, dict), \"Bad input for option 'metric_min'\"\n",
    "assert isinstance(log_metric, bool), \"Bad input for option 'log_metric'\"\n",
    "assert isinstance(days_history, int) and days_history >= 1, \"Bad input for option 'days_history'\"\n",
    "assert isinstance(days_horizon, int) and days_horizon >= 1, \"Bad input for option 'days_horizon'\""
   ]
  },
  {
   "cell_type": "markdown",
   "metadata": {},
   "source": [
    "## Imports"
   ]
  },
  {
   "cell_type": "code",
   "execution_count": null,
   "metadata": {},
   "outputs": [],
   "source": [
    "import sys"
   ]
  },
  {
   "cell_type": "code",
   "execution_count": null,
   "metadata": {},
   "outputs": [],
   "source": [
    "import matplotlib as mpl\n",
    "import matplotlib.pyplot as plt\n",
    "import numpy as np\n",
    "import pandas as pd\n",
    "import sklearn"
   ]
  },
  {
   "cell_type": "code",
   "execution_count": null,
   "metadata": {},
   "outputs": [],
   "source": [
    "# Check package versions\n",
    "assert sys.version[:3] == '3.6', 'Unexpected Python version: expected 3.6, got {}'.format(sys.version[:3])\n",
    "assert mpl.__version__.rpartition('.')[0] == '3.1', 'Unexpected matplotlib version: expected 3.1, got {}'.format(mpl.__version__.rpartition('.')[0])\n",
    "assert np.__version__.rpartition('.')[0] == '1.18', 'Unexpected numpy version: expected 1.18, got {}'.format(np.__version__.rpartition('.')[0])\n",
    "assert pd.__version__.rpartition('.')[0] == '1.0', 'Unexpected pandas version: expected 1.0, got {}'.format(pd.__version__.rpartition('.')[0])\n",
    "assert sklearn.__version__.rpartition('.')[0] == '0.22', 'Unexpected scikit-learn version: expected 0.22, got {}'.format(sklearn.__version__.rpartition('.')[0])"
   ]
  },
  {
   "cell_type": "code",
   "execution_count": null,
   "metadata": {},
   "outputs": [],
   "source": [
    "from sklearn import linear_model\n",
    "from sklearn import model_selection"
   ]
  },
  {
   "cell_type": "code",
   "execution_count": null,
   "metadata": {},
   "outputs": [],
   "source": [
    "pd.options.display.max_columns = 250\n",
    "pd.options.display.max_rows = 250"
   ]
  },
  {
   "cell_type": "markdown",
   "metadata": {},
   "source": [
    "## Load data"
   ]
  },
  {
   "cell_type": "code",
   "execution_count": null,
   "metadata": {},
   "outputs": [],
   "source": [
    "values = pd.read_csv(DATA_PATH + 'time_series_covid19_{metric}_global.txt'.format(metric=metric))"
   ]
  },
  {
   "cell_type": "code",
   "execution_count": null,
   "metadata": {},
   "outputs": [],
   "source": [
    "print('Data updated to:', values.columns[-1])"
   ]
  },
  {
   "cell_type": "code",
   "execution_count": null,
   "metadata": {
    "scrolled": true
   },
   "outputs": [],
   "source": [
    "values.info(verbose=True)"
   ]
  },
  {
   "cell_type": "markdown",
   "metadata": {},
   "source": [
    "Check that there is no unexpected missing data:"
   ]
  },
  {
   "cell_type": "code",
   "execution_count": null,
   "metadata": {
    "scrolled": true
   },
   "outputs": [],
   "source": [
    "assert values.notnull().all()[1:].all(), 'Unexpected missing data!'"
   ]
  },
  {
   "cell_type": "code",
   "execution_count": null,
   "metadata": {},
   "outputs": [],
   "source": [
    "values.drop(columns={'Lat', 'Long'}, inplace=True)"
   ]
  },
  {
   "cell_type": "code",
   "execution_count": null,
   "metadata": {},
   "outputs": [],
   "source": [
    "values.rename(columns={'Country/Region': 'country', 'Province/State': 'province'}, inplace=True)"
   ]
  },
  {
   "cell_type": "code",
   "execution_count": null,
   "metadata": {},
   "outputs": [],
   "source": [
    "values.sample(5)"
   ]
  },
  {
   "cell_type": "markdown",
   "metadata": {},
   "source": [
    "## Look at Countries Split Up by Province/State"
   ]
  },
  {
   "cell_type": "markdown",
   "metadata": {},
   "source": [
    "Number of distinct provinces for countries with more than one province:"
   ]
  },
  {
   "cell_type": "code",
   "execution_count": null,
   "metadata": {},
   "outputs": [],
   "source": [
    "country_counts = values['country'].value_counts()\n",
    "print(country_counts[country_counts > 1])"
   ]
  },
  {
   "cell_type": "markdown",
   "metadata": {},
   "source": [
    "List current value by country and province, sorted by country ascending, then value descending:"
   ]
  },
  {
   "cell_type": "code",
   "execution_count": null,
   "metadata": {
    "scrolled": true
   },
   "outputs": [],
   "source": [
    "values.loc[values['country'].map(country_counts > 1)].iloc[:, [1, 0, -1]].sort_values(\n",
    "    ['country', values.columns[-1]], ascending=[True, False]\n",
    ")"
   ]
  },
  {
   "cell_type": "markdown",
   "metadata": {},
   "source": [
    "## Data Processing"
   ]
  },
  {
   "cell_type": "markdown",
   "metadata": {},
   "source": [
    "Add a new variable `locale` that combines the country and provice (if applicable):"
   ]
  },
  {
   "cell_type": "code",
   "execution_count": null,
   "metadata": {},
   "outputs": [],
   "source": [
    "values.insert(0, 'locale', values['country'].where(\n",
    "    values['province'].isnull(),\n",
    "    values['country'] + '/' + values['province']\n",
    "))"
   ]
  },
  {
   "cell_type": "markdown",
   "metadata": {},
   "source": [
    "Replaces the `country` and `province` columns:"
   ]
  },
  {
   "cell_type": "code",
   "execution_count": null,
   "metadata": {},
   "outputs": [],
   "source": [
    "values.drop(columns={'province', 'country'}, inplace=True)"
   ]
  },
  {
   "cell_type": "code",
   "execution_count": null,
   "metadata": {},
   "outputs": [],
   "source": [
    "values.sample(5)"
   ]
  },
  {
   "cell_type": "markdown",
   "metadata": {},
   "source": [
    "Plot values for each locale (repeat the second cell below):"
   ]
  },
  {
   "cell_type": "code",
   "execution_count": null,
   "metadata": {},
   "outputs": [],
   "source": [
    "idx = 0"
   ]
  },
  {
   "cell_type": "code",
   "execution_count": null,
   "metadata": {
    "scrolled": false
   },
   "outputs": [],
   "source": [
    "if idx < values.shape[0]:\n",
    "    while values.iloc[idx, -1] < 100:\n",
    "        idx += 1\n",
    "    plt.figure(dpi=100)\n",
    "    values.iloc[idx, 1:].plot.line(marker='.', markersize=5, logy=log_metric)\n",
    "    plt.title('Locale #{idx}: {locale}'.format(idx=idx + 1, locale=values.iloc[idx, 0]))\n",
    "    plt.xlabel('Date')\n",
    "    plt.ylabel(metric.capitalize())\n",
    "    plt.grid(True)\n",
    "    idx += 1"
   ]
  },
  {
   "cell_type": "markdown",
   "metadata": {},
   "source": [
    "Stack the data:"
   ]
  },
  {
   "cell_type": "code",
   "execution_count": null,
   "metadata": {},
   "outputs": [],
   "source": [
    "values_melt = values.melt(id_vars=['locale'], var_name='date', value_name='value')"
   ]
  },
  {
   "cell_type": "code",
   "execution_count": null,
   "metadata": {},
   "outputs": [],
   "source": [
    "values_melt['date'] = pd.to_datetime(values_melt['date'])"
   ]
  },
  {
   "cell_type": "code",
   "execution_count": null,
   "metadata": {},
   "outputs": [],
   "source": [
    "values_melt.sample(5)"
   ]
  },
  {
   "cell_type": "markdown",
   "metadata": {},
   "source": [
    "Filter by the minimum required metric value:"
   ]
  },
  {
   "cell_type": "code",
   "execution_count": null,
   "metadata": {},
   "outputs": [],
   "source": [
    "values_melt = values_melt.loc[values_melt['value'] >= metric_min[metric]]"
   ]
  },
  {
   "cell_type": "markdown",
   "metadata": {},
   "source": [
    "Apply log to the metric values, if specified:"
   ]
  },
  {
   "cell_type": "code",
   "execution_count": null,
   "metadata": {},
   "outputs": [],
   "source": [
    "if log_metric:\n",
    "    values_melt['value'] = values_melt['value'].map(np.log10)"
   ]
  },
  {
   "cell_type": "code",
   "execution_count": null,
   "metadata": {},
   "outputs": [],
   "source": [
    "values_melt.sample(5)"
   ]
  },
  {
   "cell_type": "markdown",
   "metadata": {},
   "source": [
    "## Construct Final Datasets"
   ]
  },
  {
   "cell_type": "code",
   "execution_count": null,
   "metadata": {},
   "outputs": [],
   "source": [
    "final_schema = pd.DataFrame(columns=['locale', 'date']\n",
    "                                    + ['value_d{}'.format(idx) for idx in range(-days_history + 1, 1)]\n",
    "                                    + ['value_d+{}'.format(days_horizon)])"
   ]
  },
  {
   "cell_type": "code",
   "execution_count": null,
   "metadata": {},
   "outputs": [],
   "source": [
    "final_schema"
   ]
  },
  {
   "cell_type": "code",
   "execution_count": null,
   "metadata": {},
   "outputs": [],
   "source": [
    "train_to_append_list = []\n",
    "pred_to_append_list = []"
   ]
  },
  {
   "cell_type": "code",
   "execution_count": null,
   "metadata": {},
   "outputs": [],
   "source": [
    "for locale in sorted(values_melt['locale'].unique()):\n",
    "    values_melt_locale = values_melt.loc[values_melt['locale'] == locale].sort_values('date')\n",
    "    \n",
    "    # Add to training data\n",
    "    for idx in range(values_melt_locale.shape[0] - days_history - days_horizon + 1):\n",
    "        train_to_append = values_melt_locale.iloc[idx + (days_history - 1), :2].to_dict()\n",
    "        train_to_append.update(zip(final_schema.columns[2:-1], values_melt_locale['value'].iloc[idx : idx + days_history]))\n",
    "        train_to_append[final_schema.columns[-1]] = values_melt_locale['value'].iloc[idx + (days_history - 1) + days_horizon]\n",
    "        train_to_append_list.append(train_to_append)\n",
    "        \n",
    "    # Add to prediction data\n",
    "    if days_history <= values_melt_locale.shape[0]:  # Can only predict if we have enough days of history\n",
    "        pred_to_append = values_melt_locale.iloc[-1, :2].to_dict()\n",
    "        pred_to_append.update(zip(final_schema.columns[2:-1], values_melt_locale['value'].iloc[-days_history:]))\n",
    "        pred_to_append_list.append(pred_to_append)"
   ]
  },
  {
   "cell_type": "code",
   "execution_count": null,
   "metadata": {},
   "outputs": [],
   "source": [
    "train = final_schema.append(train_to_append_list, ignore_index=True)\n",
    "pred = final_schema.append(pred_to_append_list, ignore_index=True)"
   ]
  },
  {
   "cell_type": "code",
   "execution_count": null,
   "metadata": {},
   "outputs": [],
   "source": [
    "train.set_index(['locale', 'date'], inplace=True, verify_integrity=True)\n",
    "pred.set_index(['locale', 'date'], inplace=True, verify_integrity=True)"
   ]
  },
  {
   "cell_type": "code",
   "execution_count": null,
   "metadata": {},
   "outputs": [],
   "source": [
    "train.head()"
   ]
  },
  {
   "cell_type": "code",
   "execution_count": null,
   "metadata": {},
   "outputs": [],
   "source": [
    "pred.head()"
   ]
  },
  {
   "cell_type": "markdown",
   "metadata": {},
   "source": [
    "Check the size of the dataset:"
   ]
  },
  {
   "cell_type": "code",
   "execution_count": null,
   "metadata": {},
   "outputs": [],
   "source": [
    "print('The training data has {} samples'.format(train.shape[0]))\n",
    "print('Predictions will be made for {} locales'.format(pred.shape[0]))"
   ]
  },
  {
   "cell_type": "markdown",
   "metadata": {},
   "source": [
    "Shuffle the training data:"
   ]
  },
  {
   "cell_type": "code",
   "execution_count": null,
   "metadata": {},
   "outputs": [],
   "source": [
    "train = train.sample(frac=1, random_state=random_state)"
   ]
  },
  {
   "cell_type": "markdown",
   "metadata": {},
   "source": [
    "## Model Training and Validation"
   ]
  },
  {
   "cell_type": "code",
   "execution_count": null,
   "metadata": {},
   "outputs": [],
   "source": [
    "model = linear_model.LassoCV(\n",
    "    eps=1e-8,\n",
    "    fit_intercept=True,\n",
    "    max_iter=100000,\n",
    "    n_jobs=-1,\n",
    "    random_state=random_state,\n",
    ")"
   ]
  },
  {
   "cell_type": "code",
   "execution_count": null,
   "metadata": {
    "scrolled": true
   },
   "outputs": [],
   "source": [
    "model.fit(train.iloc[:, :-1], train.iloc[:, -1])"
   ]
  },
  {
   "cell_type": "code",
   "execution_count": null,
   "metadata": {},
   "outputs": [],
   "source": [
    "model.coef_"
   ]
  },
  {
   "cell_type": "code",
   "execution_count": null,
   "metadata": {
    "scrolled": true
   },
   "outputs": [],
   "source": [
    "model.intercept_"
   ]
  },
  {
   "cell_type": "code",
   "execution_count": null,
   "metadata": {
    "scrolled": true
   },
   "outputs": [],
   "source": [
    "model.alpha_"
   ]
  },
  {
   "cell_type": "code",
   "execution_count": null,
   "metadata": {},
   "outputs": [],
   "source": [
    "min(model.alphas_), max(model.alphas_)"
   ]
  },
  {
   "cell_type": "markdown",
   "metadata": {},
   "source": [
    "Cross-validated mean absolute error:"
   ]
  },
  {
   "cell_type": "code",
   "execution_count": null,
   "metadata": {},
   "outputs": [],
   "source": [
    "mean_abs_errors = -model_selection.cross_val_score(\n",
    "    estimator=linear_model.Lasso(\n",
    "        alpha=model.alpha_,\n",
    "        max_iter=100000,\n",
    "        random_state=random_state,\n",
    "    ),\n",
    "    X=train.iloc[:, :-1],\n",
    "    y=train.iloc[:, -1],\n",
    "    scoring='neg_mean_absolute_error',\n",
    ")"
   ]
  },
  {
   "cell_type": "code",
   "execution_count": null,
   "metadata": {},
   "outputs": [],
   "source": [
    "sorted(mean_abs_errors)"
   ]
  },
  {
   "cell_type": "markdown",
   "metadata": {},
   "source": [
    "## Model Selection Information"
   ]
  },
  {
   "cell_type": "code",
   "execution_count": null,
   "metadata": {},
   "outputs": [],
   "source": [
    "pd.DataFrame(\n",
    "    data={\n",
    "        'days_history': days_history,\n",
    "        'days_selected': (model.coef_ != 0).sum(),\n",
    "        'metric_min': metric_min[metric],\n",
    "        'n_samples': train.shape[0],\n",
    "        'samples_per_param': train.shape[0]/(days_history + 1),\n",
    "        'mean_error': mean_abs_errors.mean(),\n",
    "    },\n",
    "    index=[0],\n",
    ")"
   ]
  },
  {
   "cell_type": "markdown",
   "metadata": {},
   "source": [
    "## Predictions"
   ]
  },
  {
   "cell_type": "code",
   "execution_count": null,
   "metadata": {},
   "outputs": [],
   "source": [
    "pred['value_d+{}'.format(days_horizon)] = model.predict(pred.iloc[:, :-1])"
   ]
  },
  {
   "cell_type": "code",
   "execution_count": null,
   "metadata": {},
   "outputs": [],
   "source": [
    "if log_metric:\n",
    "    for col in pred.columns:\n",
    "        pred[col] = pred[col].map(lambda x: round(10**x))"
   ]
  },
  {
   "cell_type": "code",
   "execution_count": null,
   "metadata": {
    "scrolled": true
   },
   "outputs": [],
   "source": [
    "pred"
   ]
  }
 ],
 "metadata": {
  "kernelspec": {
   "display_name": "Python 3",
   "language": "python",
   "name": "python3"
  },
  "language_info": {
   "codemirror_mode": {
    "name": "ipython",
    "version": 3
   },
   "file_extension": ".py",
   "mimetype": "text/x-python",
   "name": "python",
   "nbconvert_exporter": "python",
   "pygments_lexer": "ipython3",
   "version": "3.6.10"
  }
 },
 "nbformat": 4,
 "nbformat_minor": 4
}
